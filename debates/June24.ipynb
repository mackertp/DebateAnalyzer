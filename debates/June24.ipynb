{
 "cells": [
  {
   "cell_type": "markdown",
   "id": "f2be5699-13a4-49a2-8cda-b59b31c3f01b",
   "metadata": {},
   "source": [
    "# Make AI Great Again - First Debate!\n",
    "\n",
    "This notebook uses traditional AI modeling to analyze the Presidential debates. This is the first implementation of a custom NLTK processing model. Special thanks to [UC Santa Barbara](https://www.presidency.ucsb.edu/documents/presidential-debate-atlanta-georgia) for providing the rich text needed for this notebook to run.\n",
    "\n",
    "Are you ready to ***Make AI Great Again?***\n",
    "\n",
    "<img \n",
    "     src='https://img-9gag-fun.9cache.com/photo/aegBw8v_460s.jpg'\n",
    "     width='250px'\n",
    "/>\n",
    "\n",
    "Let's start with Python..."
   ]
  },
  {
   "cell_type": "code",
   "execution_count": 1,
   "id": "257d0db8-a3e6-4ec9-b4dc-be3f8a2f7cc9",
   "metadata": {
    "tags": []
   },
   "outputs": [],
   "source": [
    "import settings.debate_util as util"
   ]
  },
  {
   "cell_type": "markdown",
   "id": "3fa0c35a-ab4b-4b1f-9129-3a45566fd13d",
   "metadata": {},
   "source": [
    "## Post Debate Analysis\n",
    "\n",
    "We'll look at a specific debate that occurred on June 26th, 2024 between President Joe Biden and former President Donald Trump. This heavyweight matchup left many disappointed and quite a few in tears (we're not sure if those were from laughing, crying, or a little bit of both). This notebook looks at a single debate in detail, but consider the process."
   ]
  },
  {
   "cell_type": "markdown",
   "id": "664fddff-56c8-49f6-a2b5-742451c92bae",
   "metadata": {},
   "source": [
    "#### Load Debate Text\n",
    "\n",
    "Start by providing the url that contains the debate transcript you want to analyze. This algorithm is designed to read the strucuture of UCSB's web pages, convert the extracted text into an NLTK text object and then wraps the NLTK object into a ***custom*** Python object that makes AI great again."
   ]
  },
  {
   "cell_type": "code",
   "execution_count": 2,
   "id": "b6cd004b-b5a6-4e74-bc3a-acb095999c74",
   "metadata": {
    "tags": []
   },
   "outputs": [],
   "source": [
    "url = 'https://www.presidency.ucsb.edu/documents/presidential-debate-atlanta-georgia'\n",
    "date = '2024-07-26'"
   ]
  },
  {
   "cell_type": "markdown",
   "id": "5b060624-f7cb-4177-a788-0d7eb3fe4eae",
   "metadata": {},
   "source": [
    "Store the webpage's text as an [nltk text object](https://www.nltk.org/api/nltk.text.Text.html) with [part of speech tagging](https://www.nltk.org/api/nltk.tag.pos_tag.html) applied."
   ]
  },
  {
   "cell_type": "code",
   "execution_count": 3,
   "id": "0c4e9f3c-521c-42a0-bef2-59aa81b7cf46",
   "metadata": {
    "tags": []
   },
   "outputs": [],
   "source": [
    "clean_text = util.clean_and_tag(url)"
   ]
  },
  {
   "cell_type": "markdown",
   "id": "e44d7e07-23d4-4a5c-a599-1924f2b1963e",
   "metadata": {},
   "source": [
    "**load into wrapper object**"
   ]
  },
  {
   "cell_type": "code",
   "execution_count": 4,
   "id": "fe202c7b-f8f6-4e97-8b89-7bf914a6a258",
   "metadata": {
    "tags": []
   },
   "outputs": [],
   "source": [
    "debate_analyzer = util.AnalysisTools(clean_text)"
   ]
  },
  {
   "cell_type": "markdown",
   "id": "147c9e5a-3e91-4bfb-9d17-aba1585ae7c7",
   "metadata": {},
   "source": [
    "## Participants\n",
    "\n",
    "From the webpage, the wrapper object can quickly return a formatted list of participants and moderators for the debate."
   ]
  },
  {
   "cell_type": "code",
   "execution_count": 5,
   "id": "f075e5d1-c9db-4700-a2f8-2bc1e0e938d8",
   "metadata": {
    "tags": []
   },
   "outputs": [
    {
     "data": {
      "text/plain": [
       "['BIDEN', 'TRUMP']"
      ]
     },
     "execution_count": 5,
     "metadata": {},
     "output_type": "execute_result"
    }
   ],
   "source": [
    "participants = debate_analyzer.get_participants()\n",
    "participants"
   ]
  },
  {
   "cell_type": "code",
   "execution_count": 6,
   "id": "9d4afc8e-9426-490b-9c07-393a3523dbf2",
   "metadata": {
    "tags": []
   },
   "outputs": [
    {
     "data": {
      "text/plain": [
       "['BASH', 'TAPPER']"
      ]
     },
     "execution_count": 6,
     "metadata": {},
     "output_type": "execute_result"
    }
   ],
   "source": [
    "moderators = debate_analyzer.get_moderators()\n",
    "moderators"
   ]
  },
  {
   "cell_type": "markdown",
   "id": "aa02844d-48e0-4f75-8142-6959b7f794b3",
   "metadata": {},
   "source": [
    "<img \n",
    "     src='https://images.wral.com/asset/entertainment/2024/06/25/21497319/667a450e49bb4-media_b4031cbeb3c849a0911c84092eb493f0-DMID1-63eazcsew-640x480.jpg'\n",
    "     width='200px'\n",
    "/>"
   ]
  },
  {
   "cell_type": "markdown",
   "id": "60c1ed54-a695-4591-b64f-2674b8fe0256",
   "metadata": {},
   "source": [
    "## Words\n",
    "\n",
    "<p style='color:#FF0000';>Note: The transcribed text of this debate is not 100% accurate. Transformations that grouped the text experienced clear data loss.</p>\n",
    "\n",
    "Debates are often picked apart for years after they occur. Most of the value for voters is in listening and watching the debate. I encourage you to find a video clip that correlates to any text you read that piques your interest."
   ]
  },
  {
   "cell_type": "code",
   "execution_count": 7,
   "id": "390dc268-68e5-4a56-8588-c65e55f65243",
   "metadata": {
    "tags": []
   },
   "outputs": [
    {
     "data": {
      "text/plain": [
       "14760"
      ]
     },
     "execution_count": 7,
     "metadata": {},
     "output_type": "execute_result"
    }
   ],
   "source": [
    "debate_analyzer.total_words()"
   ]
  },
  {
   "cell_type": "code",
   "execution_count": 8,
   "id": "1de5c873-6a69-4e02-bc33-85858b634522",
   "metadata": {
    "tags": []
   },
   "outputs": [
    {
     "data": {
      "text/plain": [
       "{'BIDEN': (6667, '45.17%'), 'TRUMP': (8093, '54.83%')}"
      ]
     },
     "execution_count": 8,
     "metadata": {},
     "output_type": "execute_result"
    }
   ],
   "source": [
    "debate_analyzer.words_by_all_candidates()"
   ]
  },
  {
   "cell_type": "markdown",
   "id": "44164e6b-4817-40b3-8e88-0dc5018a4b82",
   "metadata": {},
   "source": [
    "# Journey-Builder...\n",
    "\n",
    "Quickly find what candidates are saying about topics that are relevant to you... I picked golf to try my best to avoid too much policital commentary on my GitHub.\n",
    "\n",
    "<img \n",
    "     src='https://www.usatoday.com/gcdn/authoring/authoring-images/2024/06/28/USAT/74241545007-trump-biden-golf.png?crop=1999,1125,x0,y300&width=1600&height=800&format=pjpg&auto=webp'\n",
    "     width='500px'\n",
    "/>"
   ]
  },
  {
   "cell_type": "code",
   "execution_count": 9,
   "id": "f4a17b95-bbc4-4e77-9754-535839323f7a",
   "metadata": {
    "tags": []
   },
   "outputs": [
    {
     "name": "stdout",
     "output_type": "stream",
     "text": [
      "Displaying 1 of 1 matches:\n",
      "the ball along way And I do it He does n't do it He ca n't hit a ball yards He challenged me to a golf match He can hit a ball years I think I a very good shape I feel that I in as good a shape as I w\n"
     ]
    }
   ],
   "source": [
    "debate_analyzer.get_concordance('Trump', 'golf')"
   ]
  },
  {
   "cell_type": "code",
   "execution_count": 10,
   "id": "6efa0681-3962-42a6-a1e5-48e5593d8dfa",
   "metadata": {
    "tags": []
   },
   "outputs": [
    {
     "name": "stdout",
     "output_type": "stream",
     "text": [
      "Displaying 1 of 1 matches:\n",
      "ndicap which when I was vice president down to a And by the way I told you before I happy to play golf if you carry your own bag Think you can do it I was handicap Eight but I have you know how many… \n"
     ]
    }
   ],
   "source": [
    "debate_analyzer.get_concordance('Biden', 'golf')"
   ]
  },
  {
   "cell_type": "markdown",
   "id": "957dfe46-aa1e-4c22-bebb-4d2e32f080a6",
   "metadata": {},
   "source": [
    "## Analyzing Broad Topics\n",
    "\n",
    "This section will take a broad topic of interest and further analyze the context and sentiments each candidate had around them. \n",
    "\n",
    "The United States is not in a direct conflict at the moment, but rising policital tensions coupled with active warfare in both Palestine and Eastern Europe have raised valid concerns from US voters. There is a lot of commentary on these sensitive issues, we will attempt to see what both candidate's positions are."
   ]
  },
  {
   "cell_type": "code",
   "execution_count": 11,
   "id": "e48d457b-ed6c-48f0-b90d-6064e213a1b2",
   "metadata": {},
   "outputs": [],
   "source": [
    "trump_war = debate_analyzer.get_concordance_list('Trump', 'war')\n",
    "biden_war = debate_analyzer.get_concordance_list('Biden', 'war')\n",
    "trump_war_analysis = debate_analyzer.analyze_topic_sentiment('Trump', trump_war)\n",
    "biden_war_analysis = debate_analyzer.analyze_topic_sentiment('Biden', biden_war)"
   ]
  },
  {
   "cell_type": "code",
   "execution_count": 12,
   "id": "746d6101-39a2-4a15-99c8-80c00ee58819",
   "metadata": {},
   "outputs": [
    {
     "name": "stdout",
     "output_type": "stream",
     "text": [
      "TRUMP:  for Hamas They had no money for anything No money for terror That why you had no terror at all during my administration This place the whole world is blowing up under him I never said that No they not acceptable No they not acceptable But look this is a that never should have started If we had a leader in this war he led everybody along He given billion now or more to Ukraine He given billion That a lot of money I do n't think there ever been anything like it Every time that Zelenskyy comes to\n",
      "\n",
      "\n",
      "{'overall_sentiment_dict': {'neg': 0.202, 'neu': 0.768, 'pos': 0.03, 'compound': -0.9267}, 'negative': 20.200000000000003, 'neural': 76.8, 'positive': 3.0, 'overall': 'Negative'}\n",
      "\n",
      "\n",
      "TRUMP:  why you had no terror at all during my administration This place the whole world is blowing up under him I never said that No they not acceptable No they not acceptable But look this is a war that never should have started If we had a leader in this he led everybody along He given billion now or more to Ukraine He given billion That a lot of money I do n't think there ever been anything like it Every time that Zelenskyy comes to this country he walks away with billion dollars he the greatest salesman ever\n",
      "\n",
      "\n",
      "{'overall_sentiment_dict': {'neg': 0.111, 'neu': 0.779, 'pos': 0.109, 'compound': 0.2086}, 'negative': 11.1, 'neural': 77.9, 'positive': 10.9, 'overall': 'Positive'}\n",
      "\n",
      "\n",
      "TRUMP:  of money I do n't think there ever been anything like it Every time that Zelenskyy comes to this country he walks away with billion dollars he the greatest salesman ever And I not knocking him I not knocking anything I only saying the money that we spending on this and we should n't be spending it should have never happened I will have that war settled between Putin and Zelenskyy as president-elect before I take office on January I have that war settled People being killed so needlessly so stupidly and I will get it settled and I\n",
      "\n",
      "\n",
      "{'overall_sentiment_dict': {'neg': 0.154, 'neu': 0.784, 'pos': 0.063, 'compound': -0.8956}, 'negative': 15.4, 'neural': 78.4, 'positive': 6.3, 'overall': 'Negative'}\n",
      "\n",
      "\n",
      "TRUMP:  comes to this country he walks away with billion dollars he the greatest salesman ever And I not knocking him I not knocking anything I only saying the money that we spending on this war and we should n't be spending it should have never happened I will have that settled between Putin and Zelenskyy as president-elect before I take office on January I have that war settled People being killed so needlessly so stupidly and I will get it settled and I get it settled fast before I take office Just going back to Ukraine for one second\n",
      "\n",
      "\n",
      "{'overall_sentiment_dict': {'neg': 0.167, 'neu': 0.793, 'pos': 0.039, 'compound': -0.9408}, 'negative': 16.7, 'neural': 79.3, 'positive': 3.9, 'overall': 'Negative'}\n",
      "\n",
      "\n",
      "TRUMP:  not knocking him I not knocking anything I only saying the money that we spending on this war and we should n't be spending it should have never happened I will have that war settled between Putin and Zelenskyy as president-elect before I take office on January I have that settled People being killed so needlessly so stupidly and I will get it settled and I get it settled fast before I take office Just going back to Ukraine for one second We have an ocean separating us The European nations together have spent billion or maybe more than\n",
      "\n",
      "\n",
      "{'overall_sentiment_dict': {'neg': 0.171, 'neu': 0.829, 'pos': 0.0, 'compound': -0.9635}, 'negative': 17.1, 'neural': 82.89999999999999, 'positive': 0.0, 'overall': 'Negative'}\n",
      "\n",
      "\n",
      "TRUMP:  make America great again We a failing nation right now We a seriously failing nation And we a failing nation because of him His policies are so bad His military policies are insane They insane These are wars that will never end with him He will drive us into World Three and we closer to World War Three than anybody can imagine We are very very close to World War Three and he driving us there And Kim Jong Un and President Xi of China Kim Jong Un of North Korea all of these Putin they do n't respect\n",
      "\n",
      "\n",
      "{'overall_sentiment_dict': {'neg': 0.287, 'neu': 0.68, 'pos': 0.033, 'compound': -0.9839}, 'negative': 28.7, 'neural': 68.0, 'positive': 3.3000000000000003, 'overall': 'Negative'}\n",
      "\n",
      "\n",
      "TRUMP:  nation right now We a seriously failing nation And we a failing nation because of him His policies are so bad His military policies are insane They insane These are wars that will never end with him He will drive us into World War Three and we closer to World Three than anybody can imagine We are very very close to World War Three and he driving us there And Kim Jong Un and President Xi of China Kim Jong Un of North Korea all of these Putin they do n't respect them They do n't fear him They\n",
      "\n",
      "\n",
      "{'overall_sentiment_dict': {'neg': 0.266, 'neu': 0.712, 'pos': 0.022, 'compound': -0.9826}, 'negative': 26.6, 'neural': 71.2, 'positive': 2.1999999999999997, 'overall': 'Negative'}\n",
      "\n",
      "\n",
      "TRUMP:  because of him His policies are so bad His military policies are insane They insane These are wars that will never end with him He will drive us into World War Three and we closer to World War Three than anybody can imagine We are very very close to World Three and he driving us there And Kim Jong Un and President Xi of China Kim Jong Un of North Korea all of these Putin they do n't respect them They do n't fear him They have nothing going with this gentleman and he going to drive us into\n",
      "\n",
      "\n",
      "{'overall_sentiment_dict': {'neg': 0.203, 'neu': 0.775, 'pos': 0.022, 'compound': -0.9691}, 'negative': 20.3, 'neural': 77.5, 'positive': 2.1999999999999997, 'overall': 'Negative'}\n",
      "\n",
      "\n",
      "TRUMP:  Three and he driving us there And Kim Jong Un and President Xi of China Kim Jong Un of North Korea all of these Putin they do n't respect them They do n't fear him They have nothing going with this gentleman and he going to drive us into World Three Just to finish what he said if I might Russia they took a lot of land from Bush They took a lot of land from Obama and Biden They took no land nothing from Trump nothing He knew not to do it He not going to play games\n",
      "\n",
      "\n",
      "{'overall_sentiment_dict': {'neg': 0.067, 'neu': 0.907, 'pos': 0.026, 'compound': -0.4874}, 'negative': 6.7, 'neural': 90.7, 'positive': 2.6, 'overall': 'Negative'}\n",
      "\n",
      "\n",
      "TRUMP:  not to do it He not going to play games with me He knew that I got along with him very well but he knew not to play games He took nothing from me but now he going to take the whole thing from this man right here That a that should have never started It would never started ever with me And he going to take Ukraine and you know you asked me a question before would you do this with he got us in such a bad position right now with Ukraine and Russia because Ukraine not\n",
      "\n",
      "\n",
      "{'overall_sentiment_dict': {'neg': 0.087, 'neu': 0.896, 'pos': 0.017, 'compound': -0.7978}, 'negative': 8.7, 'neural': 89.60000000000001, 'positive': 1.7000000000000002, 'overall': 'Negative'}\n",
      "\n",
      "\n",
      "TRUMP:  should have never started It would never started ever with me And he going to take Ukraine and you know you asked me a question before would you do this with he got us in such a bad position right now with Ukraine and Russia because Ukraine not winning that He said I will never settle until such time they running out of people they running out of soldiers they lost so many people It so sad They lost so many people and they lost those gorgeous cities with the golden domes that are all because of him and\n",
      "\n",
      "\n",
      "{'overall_sentiment_dict': {'neg': 0.156, 'neu': 0.808, 'pos': 0.036, 'compound': -0.9036}, 'negative': 15.6, 'neural': 80.80000000000001, 'positive': 3.5999999999999996, 'overall': 'Negative'}\n",
      "\n",
      "\n"
     ]
    }
   ],
   "source": [
    "for comment in list(trump_war_analysis.keys()):\n",
    "    print('TRUMP: ', comment)\n",
    "    print('\\n')\n",
    "    print(trump_war_analysis[comment])\n",
    "    print('\\n')"
   ]
  },
  {
   "cell_type": "code",
   "execution_count": 13,
   "id": "1d6523f0-00c1-4364-85b1-58377cc64b99",
   "metadata": {},
   "outputs": [
    {
     "name": "stdout",
     "output_type": "stream",
     "text": [
      "BIDEN:  great respect for veterans My my son spent a year in Iraq living next to one of those burn pits came back with stage four glioblastoma I was recently in in in France for D-Day and I spoke to all about those heroes that died I went to the World II cemetery World War I cemetery he refused to go to He was standing with his four-star general and he told him he said I do n't want to go in there because they a bunch of losers and suckers My son was not a loser He was not\n",
      "\n",
      "\n",
      "{'overall_sentiment_dict': {'neg': 0.157, 'neu': 0.724, 'pos': 0.119, 'compound': -0.5181}, 'negative': 15.7, 'neural': 72.39999999999999, 'positive': 11.899999999999999, 'overall': 'Negative'}\n",
      "\n",
      "\n",
      "BIDEN:  My my son spent a year in Iraq living next to one of those burn pits came back with stage four glioblastoma I was recently in in in France for D-Day and I spoke to all about those heroes that died I went to the World War II cemetery World I cemetery he refused to go to He was standing with his four-star general and he told him he said I do n't want to go in there because they a bunch of losers and suckers My son was not a loser He was not a sucker You the\n",
      "\n",
      "\n",
      "{'overall_sentiment_dict': {'neg': 0.164, 'neu': 0.754, 'pos': 0.082, 'compound': -0.8303}, 'negative': 16.400000000000002, 'neural': 75.4, 'positive': 8.200000000000001, 'overall': 'Negative'}\n",
      "\n",
      "\n",
      "BIDEN:  lines We done more for veterans than any president has in American history American history And they now and their family The only sacred obligation we have as a country is to care for our veterans when they come home and their families and equip them when they go to That what we doing That what the V.A is doing now They doing more for veterans than ever before in our history I never heard so much malarkey in my whole life Look the fact of the matter is that we in a situation where let take the last\n",
      "\n",
      "\n",
      "{'overall_sentiment_dict': {'neg': 0.0, 'neu': 0.956, 'pos': 0.044, 'compound': 0.5106}, 'negative': 0.0, 'neural': 95.6, 'positive': 4.3999999999999995, 'overall': 'Positive'}\n",
      "\n",
      "\n",
      "BIDEN:  the old Soviet Union That what he wanted to re-establish Kyiv And he in fact did n't do it at all He did n't was n't able to get it done And they lost over they lost thousands and thousands of troops troops The fact is that Putin is a criminal He killed thousands and thousands of people And he has made one thing clear he wants to re-establish what was part of the Soviet Empire not just a piece he wants all of Ukraine That what he wants And then do you think he stop there Do you\n",
      "\n",
      "\n",
      "{'overall_sentiment_dict': {'neg': 0.136, 'neu': 0.84, 'pos': 0.024, 'compound': -0.9022}, 'negative': 13.600000000000001, 'neural': 84.0, 'positive': 2.4, 'overall': 'Negative'}\n",
      "\n",
      "\n",
      "BIDEN:  what he wants And then do you think he stop there Do you think he stop when he if he takes Ukraine What do you think happens to Poland What do you think of Belarus What do you think happens to those NATO countries And so if you want a you ought to find out what he going to do Because if in fact he does what he says and walks away by the way all that money we give Ukraine and from weapons we make here in the United States we give them the weapons not the money\n",
      "\n",
      "\n",
      "{'overall_sentiment_dict': {'neg': 0.096, 'neu': 0.863, 'pos': 0.041, 'compound': -0.7037}, 'negative': 9.6, 'neural': 86.3, 'positive': 4.1000000000000005, 'overall': 'Negative'}\n",
      "\n",
      "\n",
      "BIDEN:  and Netanyahu himself have endorsed the plan I put forward endorsed the plan I put forward which has three stages to it The first stage is to treat the hostages for a ceasefire Second phase is a ceasefire with additional conditions The third phase is know the end of the The only one who wants the war to continue is Hamas number one They the only ones standing down ph We still pushing hard from to get them to accept In the meantime what happened in Israel We finally the only thing I denied Israel was bombs They do\n",
      "\n",
      "\n",
      "{'overall_sentiment_dict': {'neg': 0.078, 'neu': 0.821, 'pos': 0.101, 'compound': 0.1027}, 'negative': 7.8, 'neural': 82.1, 'positive': 10.100000000000001, 'overall': 'Positive'}\n",
      "\n",
      "\n",
      "BIDEN:  I put forward endorsed the plan I put forward which has three stages to it The first stage is to treat the hostages for a ceasefire Second phase is a ceasefire with additional conditions The third phase is know the end of the war The only one who wants the to continue is Hamas number one They the only ones standing down ph We still pushing hard from to get them to accept In the meantime what happened in Israel We finally the only thing I denied Israel was bombs They do n't work very well in populated areas\n",
      "\n",
      "\n",
      "{'overall_sentiment_dict': {'neg': 0.098, 'neu': 0.82, 'pos': 0.082, 'compound': -0.3881}, 'negative': 9.8, 'neural': 82.0, 'positive': 8.200000000000001, 'overall': 'Negative'}\n",
      "\n",
      "\n",
      "BIDEN:  This a guy who wants to get out of NATO You going to stay in NATO or you going to pull out of NATO The idea that we have our strength lies in our alliances as well It may be a big ocean but we ever able to avoid a in Europe a major war in Europe What happens if in fact you have Putin continue to go into NATO We have an Article Five agreement attack on one is attack on all You want to start the nuclear war he keeps talking about Go ahead Let Putin go\n",
      "\n",
      "\n",
      "{'overall_sentiment_dict': {'neg': 0.201, 'neu': 0.72, 'pos': 0.08, 'compound': -0.9538}, 'negative': 20.1, 'neural': 72.0, 'positive': 8.0, 'overall': 'Negative'}\n",
      "\n",
      "\n",
      "BIDEN:  to get out of NATO You going to stay in NATO or you going to pull out of NATO The idea that we have our strength lies in our alliances as well It may be a big ocean but we ever able to avoid a war in Europe a major in Europe What happens if in fact you have Putin continue to go into NATO We have an Article Five agreement attack on one is attack on all You want to start the nuclear war he keeps talking about Go ahead Let Putin go in and control Ukraine and\n",
      "\n",
      "\n",
      "{'overall_sentiment_dict': {'neg': 0.199, 'neu': 0.722, 'pos': 0.079, 'compound': -0.9538}, 'negative': 19.900000000000002, 'neural': 72.2, 'positive': 7.9, 'overall': 'Negative'}\n",
      "\n",
      "\n",
      "BIDEN:  a big ocean but we ever able to avoid a war in Europe a major war in Europe What happens if in fact you have Putin continue to go into NATO We have an Article Five agreement attack on one is attack on all You want to start the nuclear he keeps talking about Go ahead Let Putin go in and control Ukraine and then move on to Poland and other places See what happens then He has no idea what the hell he is talking about And by the way I got other nations around the world to\n",
      "\n",
      "\n",
      "{'overall_sentiment_dict': {'neg': 0.253, 'neu': 0.701, 'pos': 0.047, 'compound': -0.9822}, 'negative': 25.3, 'neural': 70.1, 'positive': 4.7, 'overall': 'Negative'}\n",
      "\n",
      "\n",
      "BIDEN:  no idea what the hell he is talking about And by the way I got other nations around the world to support Ukraine including Japan and South Korea because they understand that this was this this kind of dislocation has a serious threat to the whole world peace No major in Europe has ever been able to be contained just to Europe Look he encouraged those folks to go up on Capitol Hill number one I sat in that dining room off the Oval Office he sat there for three hours three hours watching begging being begged by his\n",
      "\n",
      "\n",
      "{'overall_sentiment_dict': {'neg': 0.124, 'neu': 0.786, 'pos': 0.09, 'compound': -0.5719}, 'negative': 12.4, 'neural': 78.60000000000001, 'positive': 9.0, 'overall': 'Negative'}\n",
      "\n",
      "\n",
      "BIDEN:  was vice president down to a And by the way I told you before I happy to play golf if you carry your own bag Think you can do it I was handicap Eight but I have you know how many… You are a child If you want a World Three let him follow ph and win and let Putin say do what you want to NATO just do what you want There a thing called Article Five an attack on one is attack on all a required response The idea the idea I ca n't think of a\n",
      "\n",
      "\n",
      "{'overall_sentiment_dict': {'neg': 0.081, 'neu': 0.785, 'pos': 0.133, 'compound': 0.3182}, 'negative': 8.1, 'neural': 78.5, 'positive': 13.3, 'overall': 'Positive'}\n",
      "\n",
      "\n",
      "BIDEN:  have wonderful piece ph because of the people not me because of the American people They capable of anything and they step up when they needed And right now we needed We needed to protect the world because our own safety is at stake And again you want to have just let Putin go ahead and take Kyiv make sure they move on see what happens in Poland Hungary and other places along that border Then you have a war Let see what your numbers are when this election is over Let see You a whiner When you lost\n",
      "\n",
      "\n",
      "{'overall_sentiment_dict': {'neg': 0.075, 'neu': 0.788, 'pos': 0.137, 'compound': 0.7096}, 'negative': 7.5, 'neural': 78.8, 'positive': 13.700000000000001, 'overall': 'Positive'}\n",
      "\n",
      "\n",
      "BIDEN:  needed We needed to protect the world because our own safety is at stake And again you want to have war just let Putin go ahead and take Kyiv make sure they move on see what happens in Poland Hungary and other places along that border Then you have a Let see what your numbers are when this election is over Let see You a whiner When you lost the first time you continued to appeal and appeal to courts all across the country Not one single court in America said any of your claims had any merit state\n",
      "\n",
      "\n",
      "{'overall_sentiment_dict': {'neg': 0.077, 'neu': 0.815, 'pos': 0.108, 'compound': 0.34}, 'negative': 7.7, 'neural': 81.5, 'positive': 10.8, 'overall': 'Positive'}\n",
      "\n",
      "\n"
     ]
    }
   ],
   "source": [
    "for comment in list(biden_war_analysis.keys()):\n",
    "    print('BIDEN: ', comment)\n",
    "    print('\\n')\n",
    "    print(biden_war_analysis[comment])\n",
    "    print('\\n')"
   ]
  }
 ],
 "metadata": {
  "kernelspec": {
   "display_name": "Python 3 (ipykernel)",
   "language": "python",
   "name": "python3"
  },
  "language_info": {
   "codemirror_mode": {
    "name": "ipython",
    "version": 3
   },
   "file_extension": ".py",
   "mimetype": "text/x-python",
   "name": "python",
   "nbconvert_exporter": "python",
   "pygments_lexer": "ipython3",
   "version": "3.12.3"
  }
 },
 "nbformat": 4,
 "nbformat_minor": 5
}
