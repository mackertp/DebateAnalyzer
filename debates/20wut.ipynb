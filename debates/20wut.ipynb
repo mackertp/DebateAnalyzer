{
 "cells": [
  {
   "attachments": {},
   "cell_type": "markdown",
   "metadata": {},
   "source": [
    "# Make AI Great Again\n",
    "\n",
    "...\n",
    "\n",
    "The last notebook I wrote featured Joe Biden, [who has turned over the keys](https://youtu.be/8MVZdS18NX8?si=gWR3PGm4wHt5zo9F) to his former [VP](https://youtu.be/H3lpFE19T78?si=_S9kFeiM_SV_flTv). \n",
    "\n",
    "I haven't commented on all the things that have happened because:\n",
    "\n",
    "1) I had better things to do.\n",
    "2) [Opinions run wild](https://youtube.com/shorts/mqAgsdZWIH4?si=ixp0Y9XoTAJt5PTJ)...\n",
    "\n",
    "## State of US Elections\n",
    "\n",
    "You've probably seen a lot of maps that look like the one below. A couple of observations:\n",
    "\n",
    "- The \"Swing States\" are bolded and highlight % of lean based on this year's to date polling\n",
    "- It's \"too close to call!\", just like every election\n",
    "- [Is everything okay with Ohio?](https://youtu.be/DIn3oTyjUQ0?si=GuugtBurLe0uPcv6)\n",
    "\n",
    "<img \n",
    "     src='https://split-ticket.org/wp-content/uploads/2024/09/Pres-24-09-21.png'\n",
    "     width='900px'\n",
    "/>\n",
    "\n",
    "## Set the Stage\n",
    "\n",
    "### The Reigning Champs\n",
    "\n",
    "In corner one... we have [the Democrats](https://youtu.be/4bhuYcYkU9Y?si=DUKAErG4PPhPi4vE).\n",
    "\n",
    "In the other... \"believe me\" 🤌 [he's a reigning champ](https://youtu.be/ck22e9fyAlQ?si=CNxK9yT4fMhjxaJZ)...\n",
    "\n",
    "The time of writing is 2024, let's just look at significant events that have happened since roughly around the last mid-term, where the Democrats have held office since [Donald Trump transfered power in 2020 to Joe Biden](https://youtu.be/qbJJg9g9488?si=0jwx012TQWs5Pvel)...\n",
    "\n",
    "- **August 2020**: The COVID-19 pandemic's restrictions start to be lifted across the United States and life returns to somewhat normalcy... however, the economy suffers from inflation.\n",
    "\n",
    "<img \n",
    "     src='https://cdn.prod.website-files.com/61ea4a526864d021a5ef3bfc/63497c1c4176563b6d018961_2022-10-14-1-inflation-how-prices-changed-since-2020.jpg'\n",
    "     width='350px'\n",
    "/>\n",
    "\n",
    "- **February 24th 2022**: [Russia invades Ukraine](https://youtu.be/00vhpEIshSs?si=e95QuUZaSbgQ4uCx), escalating a conflict that has created [record-breaking casualities](https://www.aljazeera.com/news/2024/10/16/russia-ukraine-wartime-deaths#:~:text=However%2C%20according%20to%20Western%20estimates,50%2C000%20service%20personnel%20a%20month.) for [Ukrainian and Russian troops](https://www.wsj.com/world/one-million-are-now-dead-or-injured-in-the-russia-ukraine-war-b09d04e5).\n",
    "- **October 7th 2023**: A Hamas attack on Israeli civilians at a music festival is leveraged by the militray industrial complex to [perpetuate war in the middle east](https://youtu.be/Jb35Kd_4jxQ?si=8cgpWGxhBsN3uRlp).\n",
    "\n",
    "#### Ukraine\n",
    "\n",
    "[Kamala](https://youtu.be/KrD1MLaGQfQ?si=OjSY9vbQD0TKAgoP), [Trump](https://youtu.be/L07fMoafVh4?si=_YeAIGZ6GCBCie2k) \n",
    "\n",
    "[Zelensky](https://youtu.be/cSA6j6OQMbg?si=htK7A-CNF30YeyhD), [Putin... ?](https://youtu.be/W5P_PWB7Su0?si=Bka1R5OmVKvxVQaE)\n",
    "\n",
    "#### Gaza \n",
    "\n",
    "[Kamala](https://youtu.be/kuan4nW-Awg?si=f97F16DzCbzwpWnc), [Trump](https://youtu.be/JN7p8kZLe7c?si=uK3dNMINj4fzGJOQ)\n",
    "\n",
    "## Let's get to the tech... plz\n",
    "\n",
    "Some cool updates this notebook offers:\n",
    "- Updated sentiment analysis from a \"Bag of words\" approach to a neural net using the [Hugging Face Transformers library](https://huggingface.co/docs/transformers/en/index) and [PyTorch](https://pytorch.org/get-started/locally/)\n",
    "- *\"Next Gen\"* Topic Extraction Model\n",
    "- Ability to analyze multiple docs in the same notebook!\n",
    "\n",
    "\n",
    "Are you ready to ***Make AI Great Again?***\n",
    "\n",
    "<img src='https://i.giphy.com/media/v1.Y2lkPTc5MGI3NjExemxucTYzc3R1c2g5MjJuYWgyeWQ0NWJpYzcyNWU1MWtra3pnamJkOCZlcD12MV9pbnRlcm5hbF9naWZfYnlfaWQmY3Q9Zw/d7vbmoGrHfmuc/giphy.gif'\n",
    "     width='250px'\n",
    "/>"
   ]
  },
  {
   "cell_type": "code",
   "execution_count": 1,
   "metadata": {},
   "outputs": [],
   "source": [
    "import utilities.debate_util as util"
   ]
  },
  {
   "cell_type": "markdown",
   "metadata": {},
   "source": [
    "Once again, thank you to the very fine Americans over at [UC Santa Barbara](https://www.presidency.ucsb.edu/documents/presidential-debate-philadelphia-pennsylvania) for hosting the transcriptions on their web page."
   ]
  },
  {
   "cell_type": "code",
   "execution_count": 2,
   "metadata": {},
   "outputs": [],
   "source": [
    "url = 'https://www.presidency.ucsb.edu/documents/presidential-debate-philadelphia-pennsylvania'\n",
    "date = '2024-09-10'"
   ]
  },
  {
   "cell_type": "code",
   "execution_count": 3,
   "metadata": {},
   "outputs": [],
   "source": [
    "clean_text = util.clean_and_tag(url)"
   ]
  },
  {
   "cell_type": "code",
   "execution_count": 4,
   "metadata": {},
   "outputs": [],
   "source": [
    "debate_analyzer = util.AnalysisTools(clean_text)"
   ]
  },
  {
   "cell_type": "markdown",
   "metadata": {},
   "source": [
    "## Participants"
   ]
  },
  {
   "cell_type": "code",
   "execution_count": 5,
   "metadata": {},
   "outputs": [
    {
     "data": {
      "text/plain": [
       "['HARRIS', 'TRUMP']"
      ]
     },
     "execution_count": 5,
     "metadata": {},
     "output_type": "execute_result"
    }
   ],
   "source": [
    "participants = debate_analyzer.get_participants()\n",
    "participants"
   ]
  },
  {
   "cell_type": "code",
   "execution_count": 6,
   "metadata": {},
   "outputs": [
    {
     "data": {
      "text/plain": [
       "['DAVIS', 'MUIR']"
      ]
     },
     "execution_count": 6,
     "metadata": {},
     "output_type": "execute_result"
    }
   ],
   "source": [
    "moderators = debate_analyzer.get_moderators()\n",
    "moderators"
   ]
  },
  {
   "cell_type": "markdown",
   "metadata": {},
   "source": [
    "<img \n",
    "     src='https://barrettmedia.com/wp-content/uploads/2024/09/DAVID-MUIR-LINSEY-DAVIS.jpg'\n",
    "     width='250px'\n",
    "/>"
   ]
  },
  {
   "cell_type": "code",
   "execution_count": 7,
   "metadata": {},
   "outputs": [
    {
     "data": {
      "text/plain": [
       "14078"
      ]
     },
     "execution_count": 7,
     "metadata": {},
     "output_type": "execute_result"
    }
   ],
   "source": [
    "debate_analyzer.total_words()"
   ]
  },
  {
   "cell_type": "code",
   "execution_count": 8,
   "metadata": {},
   "outputs": [
    {
     "data": {
      "text/plain": [
       "{'HARRIS': (5921, '42.06%'), 'TRUMP': (8157, '57.94%')}"
      ]
     },
     "execution_count": 8,
     "metadata": {},
     "output_type": "execute_result"
    }
   ],
   "source": [
    "debate_analyzer.words_by_all_candidates()"
   ]
  },
  {
   "cell_type": "markdown",
   "metadata": {},
   "source": [
    "# Topics for each candidate"
   ]
  },
  {
   "cell_type": "code",
   "execution_count": 9,
   "metadata": {},
   "outputs": [
    {
     "data": {
      "text/plain": [
       "['Donald Trump',\n",
       " 'United States',\n",
       " 'American people',\n",
       " 'Affordable Care',\n",
       " 'Care Act',\n",
       " 'Vice President',\n",
       " 'small businesses',\n",
       " 'well known',\n",
       " 'health care',\n",
       " 'former President',\n",
       " 'John McCain',\n",
       " 'last four',\n",
       " 'old tired',\n",
       " 'Joe Biden',\n",
       " 'four years',\n",
       " 'abortion bans',\n",
       " 'law enforcement',\n",
       " 'clean energy',\n",
       " 'manufacturing jobs']"
      ]
     },
     "execution_count": 9,
     "metadata": {},
     "output_type": "execute_result"
    }
   ],
   "source": [
    "debate_analyzer.candidate_topics('HARRIS')"
   ]
  },
  {
   "cell_type": "code",
   "execution_count": 10,
   "metadata": {},
   "outputs": [
    {
     "data": {
      "text/plain": [
       "['United States',\n",
       " 'student loans',\n",
       " 'years ago',\n",
       " 'Nancy Pelosi',\n",
       " 'Supreme Court',\n",
       " 'World War',\n",
       " 'New York',\n",
       " 'nuclear weapons',\n",
       " 'Washington D.C.',\n",
       " 'days later',\n",
       " 'million votes',\n",
       " 'Donald Trump',\n",
       " 'pled guilty',\n",
       " 'never happened',\n",
       " 'border czar',\n",
       " 'nobody thought']"
      ]
     },
     "execution_count": 10,
     "metadata": {},
     "output_type": "execute_result"
    }
   ],
   "source": [
    "debate_analyzer.candidate_topics('TRUMP')"
   ]
  },
  {
   "cell_type": "markdown",
   "metadata": {},
   "source": [
    "## How do you think the current economy is?"
   ]
  },
  {
   "cell_type": "code",
   "execution_count": 11,
   "metadata": {},
   "outputs": [],
   "source": [
    "harris_econ = debate_analyzer.get_concordance_list('Harris', 'economy')\n",
    "trump_econ = debate_analyzer.get_concordance_list('Trump', 'economy')"
   ]
  },
  {
   "cell_type": "code",
   "execution_count": 12,
   "metadata": {},
   "outputs": [
    {
     "data": {
      "text/plain": [
       "{'Negative': 0.24883311986923218,\n",
       " 'Neutral': 0.34180790185928345,\n",
       " 'Positive': 0.40935900807380676}"
      ]
     },
     "execution_count": 12,
     "metadata": {},
     "output_type": "execute_result"
    }
   ],
   "source": [
    "harris_sentiments = debate_analyzer.score_sentiments(harris_econ)\n",
    "harris_sentiments[0]"
   ]
  },
  {
   "cell_type": "code",
   "execution_count": 13,
   "metadata": {},
   "outputs": [
    {
     "data": {
      "text/plain": [
       "{'Negative': 3, 'Neutral': 0, 'Positive': 5}"
      ]
     },
     "execution_count": 13,
     "metadata": {},
     "output_type": "execute_result"
    }
   ],
   "source": [
    "# how many comments scored in each category?\n",
    "harris_sentiments[1]"
   ]
  },
  {
   "cell_type": "code",
   "execution_count": 14,
   "metadata": {},
   "outputs": [
    {
     "data": {
      "text/plain": [
       "{'Negative': 0.6989068984985352,\n",
       " 'Neutral': 0.2004135251045227,\n",
       " 'Positive': 0.10067964345216751}"
      ]
     },
     "execution_count": 14,
     "metadata": {},
     "output_type": "execute_result"
    }
   ],
   "source": [
    "trump_sentiments = debate_analyzer.score_sentiments(trump_econ)\n",
    "trump_sentiments[0]"
   ]
  },
  {
   "cell_type": "code",
   "execution_count": 15,
   "metadata": {},
   "outputs": [
    {
     "data": {
      "text/plain": [
       "{'Negative': 10, 'Neutral': 0, 'Positive': 3}"
      ]
     },
     "execution_count": 15,
     "metadata": {},
     "output_type": "execute_result"
    }
   ],
   "source": [
    "# how many comments scored in each category?\n",
    "trump_sentiments[1]"
   ]
  },
  {
   "cell_type": "markdown",
   "metadata": {},
   "source": [
    "## What do you think of all this war?"
   ]
  },
  {
   "cell_type": "code",
   "execution_count": 16,
   "metadata": {},
   "outputs": [],
   "source": [
    "harris_war = debate_analyzer.get_concordance_list('Harris', 'war')\n",
    "trump_war = debate_analyzer.get_concordance_list('Trump', 'war')"
   ]
  },
  {
   "cell_type": "code",
   "execution_count": 17,
   "metadata": {},
   "outputs": [
    {
     "data": {
      "text/plain": [
       "{'Negative': 0.6611987352371216,\n",
       " 'Neutral': 0.3056766092777252,\n",
       " 'Positive': 0.0331246592104435}"
      ]
     },
     "execution_count": 17,
     "metadata": {},
     "output_type": "execute_result"
    }
   ],
   "source": [
    "harris_sentiments = debate_analyzer.score_sentiments(harris_war)\n",
    "harris_sentiments[0]"
   ]
  },
  {
   "cell_type": "code",
   "execution_count": 18,
   "metadata": {},
   "outputs": [
    {
     "data": {
      "text/plain": [
       "{'Negative': 5, 'Neutral': 0, 'Positive': 0}"
      ]
     },
     "execution_count": 18,
     "metadata": {},
     "output_type": "execute_result"
    }
   ],
   "source": [
    "# how many comments scored in each category?\n",
    "harris_sentiments[1]"
   ]
  },
  {
   "cell_type": "code",
   "execution_count": 19,
   "metadata": {},
   "outputs": [
    {
     "data": {
      "text/plain": [
       "{'Negative': 0.7493448853492737,\n",
       " 'Neutral': 0.22707167267799377,\n",
       " 'Positive': 0.023583484813570976}"
      ]
     },
     "execution_count": 19,
     "metadata": {},
     "output_type": "execute_result"
    }
   ],
   "source": [
    "trump_sentiments = debate_analyzer.score_sentiments(trump_war)\n",
    "trump_sentiments[0]"
   ]
  },
  {
   "cell_type": "code",
   "execution_count": 20,
   "metadata": {},
   "outputs": [
    {
     "data": {
      "text/plain": [
       "{'Negative': 15, 'Neutral': 0, 'Positive': 0}"
      ]
     },
     "execution_count": 20,
     "metadata": {},
     "output_type": "execute_result"
    }
   ],
   "source": [
    "# how many comments scored in each category?\n",
    "trump_sentiments[1]"
   ]
  },
  {
   "cell_type": "markdown",
   "metadata": {},
   "source": [
    "# Decision Time, America\n",
    "\n",
    "It is just turning midnight on election day, November 5th, 2024 as I post this update. \n",
    "\n",
    "I'm excited to see how America decides this year. We unfortunately only got to see one debate between Harris and Trump. There was a [follow-up VP debate](https://www.presidency.ucsb.edu/documents/vice-presidential-debate-new-york-city) that you can analyze if you like. Here are [some highlights](https://youtu.be/744a76tbiv4?si=uJsNhdwK2a-UGZX1).\n",
    "\n",
    "It's also a shame that both candidates were not able to attend the [Al Smith Dinner](https://www.alsmithfoundation.org/dinner/), where we usually get to see both in a more casual, human manor. [Trump left us with some parting thoughts](https://youtu.be/XI0MUoW28VE?si=4-WYkPvCnvJ8kF3F). You can listen to one of Harris' many star-studded [campaign stops](https://youtu.be/u6lqpObB878?si=f2O38cGSRvixxQse)."
   ]
  }
 ],
 "metadata": {
  "kernelspec": {
   "display_name": "Python 3 (ipykernel)",
   "language": "python",
   "name": "python3"
  },
  "language_info": {
   "codemirror_mode": {
    "name": "ipython",
    "version": 3
   },
   "file_extension": ".py",
   "mimetype": "text/x-python",
   "name": "python",
   "nbconvert_exporter": "python",
   "pygments_lexer": "ipython3",
   "version": "3.12.3"
  }
 },
 "nbformat": 4,
 "nbformat_minor": 4
}
